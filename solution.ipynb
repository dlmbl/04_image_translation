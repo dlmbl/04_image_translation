{
 "cells": [
  {
   "cell_type": "markdown",
   "id": "b8764799",
   "metadata": {
    "cell_marker": "\"\"\""
   },
   "source": [
    "# Image translation\n",
    "---\n",
    "\n",
    "Written by Ziwen Liu and Shalin Mehta, CZ Biohub San Francisco.\n",
    "\n",
    "In this exercise, we will solve an image translation task to predict fluorescence images of nuclei and membrane markers from quantitative phase images of cells. In other words, we will _virtually stain_ the nuclei and membrane visible in the phase image. \n",
    "\n",
    "Here, the source domain is label-free microscopy (material density) and the target domain is fluorescence microscopy (fluorophore density). The goal is to learn a mapping from the source domain to the target domain. We will use a deep convolutional neural network (CNN), specifically, a U-Net model with residual connections to learn the mapping. The preprocessing, training, prediction, evaluation, and deployment steps are unified in a computer vision pipeline for single-cell analysis that we call [VisCy](https://github.com/mehta-lab/VisCy).\n",
    "\n",
    "VisCy evolved from our previous work on virtual staining of cellular components from their density and anisotropy.\n",
    "![](https://iiif.elifesciences.org/lax/55502%2Felife-55502-fig1-v2.tif/full/1500,/0/default.jpg)\n",
    "\n",
    "[Guo et al. (2020) Revealing architectural order with quantitative label-free imaging and deep learning\n",
    ". eLife](https://elifesciences.org/articles/55502).\n",
    "\n",
    "VisCy exploits recent advances in the data and metadata formats ([OME-zarr](https://www.nature.com/articles/s41592-021-01326-w)) and DL frameworks, [PyTorch Lightning](https://lightning.ai/) and [MONAI](https://monai.io/). "
   ]
  },
  {
   "cell_type": "markdown",
   "id": "b525a0e0",
   "metadata": {
    "cell_marker": "\"\"\"",
    "lines_to_next_cell": 0
   },
   "source": [
    "Today, we will train a 2D image translation model using a 2D U-Net with residual connections. We will use a dataset of 301 fields of view (FOVs) of Human Embryonic Kidney (HEK) cells, each FOV has 3 channels (phase, membrane, and nuclei). The cells were labeled with CRISPR editing. Intrestingly, not all cells during this experiment were labeled due to the stochastic nature of CRISPR editing. In such situations, virtual staining rescues missing labels.\n",
    "![HEK](https://github.com/mehta-lab/VisCy/blob/dlmbl2023/docs/figures/phase_to_nuclei_membrane.svg?raw=true)"
   ]
  },
  {
   "cell_type": "markdown",
   "id": "913f3209",
   "metadata": {
    "cell_marker": "\"\"\"",
    "lines_to_next_cell": 0
   },
   "source": [
    "<div class=\"alert alert-warning\">\n",
    "The exercise is organized in 3 parts.\n",
    "\n",
    "* **Part 1** - Explore the data using tensorboard. Launch the training before lunch.\n",
    "* Lunch break - The model will continue training during lunch.\n",
    "* **Part 2** - Evaluate the training with tensorboard. Train another model.\n",
    "* **Part 3** - Tune the models to improve performance.\n",
    "</div>"
   ]
  },
  {
   "cell_type": "markdown",
   "id": "8f3fafd6",
   "metadata": {
    "cell_marker": "\"\"\"",
    "lines_to_next_cell": 0
   },
   "source": [
    "📖 As you work through parts 2 and 3, please share the layouts of your models (output of torchview) and their performance with everyone via [this google doc](https://docs.google.com/document/d/1hZWSVRvt9KJEdYu7ib-vFBqAVQRYL8cWaP_vFznu7D8/edit#heading=h.n5u485pmzv2z) 📖.\n",
    "\n",
    "\n",
    "Our guesstimate is that each of the three parts will take ~1.5 hours. A reasonable 2D UNet can be trained in ~20 min on a typical AWS node. \n",
    "We will discuss your observations on google doc after checkpoints 2 and 3.\n",
    "\n",
    "The focus of the exercise is on understanding information content of the data, how to train and evaluate 2D image translation model, and explore some hyperparameters of the model. If you complete this exercise and have time to spare, try the bonus exercise on 3D image translation."
   ]
  },
  {
   "cell_type": "markdown",
   "id": "e0fa71ff",
   "metadata": {
    "cell_marker": "\"\"\"",
    "lines_to_next_cell": 0
   },
   "source": [
    "<div class=\"alert alert-danger\">\n",
    "Set your python kernel to <span style=\"color:black;\">04_image_translation</span>\n",
    "</div>"
   ]
  },
  {
   "cell_type": "markdown",
   "id": "f5175a23",
   "metadata": {
    "cell_marker": "\"\"\"",
    "incorrectly_encoded_metadata": "id='1_phase2fluor'></a>",
    "title": "<a"
   },
   "source": [
    "# Part 1: Log training data to tensorboard, start training a model.\n",
    "---------\n",
    "\n",
    "Learning goals:\n",
    "\n",
    "- Load the OME-zarr dataset and examine the channels.\n",
    "- Configure and understand the data loader.\n",
    "- Log some patches to tensorboard.\n",
    "- Initialize a 2D U-Net model for virtual staining\n",
    "- Start training the model to predict nuclei and membrane from phase."
   ]
  },
  {
   "cell_type": "code",
   "execution_count": null,
   "id": "3854dbb9",
   "metadata": {
    "title": "Imports and paths"
   },
   "outputs": [],
   "source": [
    "from pathlib import Path\n",
    "\n",
    "import matplotlib.pyplot as plt\n",
    "import numpy as np\n",
    "import pandas as pd\n",
    "import torch\n",
    "import torchview\n",
    "import torchvision\n",
    "from iohub import open_ome_zarr\n",
    "from lightning.pytorch import seed_everything\n",
    "from lightning.pytorch.loggers import CSVLogger, TensorBoardLogger\n",
    "from skimage import metrics  # for metrics.\n",
    "from ipywidgets import interact, widgets\n",
    "from IPython.display import display\n",
    "from ipywidgets import Button, Layout"
   ]
  },
  {
   "cell_type": "code",
   "execution_count": null,
   "id": "daf10507",
   "metadata": {
    "title": "Imports and paths"
   },
   "outputs": [],
   "source": [
    "# pytorch lightning wrapper for Tensorboard.\n",
    "from torch.utils.tensorboard import SummaryWriter  # for logging to tensorboard\n",
    "\n",
    "# HCSDataModule makes it easy to load data during training.\n",
    "from viscy.light.data import HCSDataModule\n",
    "\n",
    "# Trainer class and UNet.\n",
    "from viscy.light.engine import VSTrainer, VSUNet\n",
    "\n",
    "seed_everything(42, workers=True)\n",
    "\n",
    "# Paths to data and log directory\n",
    "data_path = Path(\n",
    "    Path(\"~/data/04_image_translation/HEK_nuclei_membrane_pyramid.zarr/\")\n",
    ").expanduser()\n",
    "\n",
    "log_dir = Path(\"~/data/04_image_translation/logs/\").expanduser()\n",
    "\n",
    "# Create log directory if needed, and launch tensorboard\n",
    "log_dir.mkdir(parents=True, exist_ok=True)"
   ]
  },
  {
   "cell_type": "markdown",
   "id": "df0fd181",
   "metadata": {
    "cell_marker": "'''",
    "tags": []
   },
   "source": [
    "Below cell starts tensorboard within the notebook.\n",
    "\n",
    "<div class=\"alert alert-danger\">\n",
    "If you launched jupyter lab from ssh terminal, you do need the <code>--host &lt;your-server-name&gt;</code> flag above. <code>&lt;your-server-name&gt;</code> is the address of your compute node that ends in amazonaws.com.\n",
    "\n",
    "You can also launch tensorboard in an independent tab by changing the `%` to `!`\n",
    "</div>"
   ]
  },
  {
   "cell_type": "code",
   "execution_count": null,
   "id": "38c48f94",
   "metadata": {
    "tags": [],
    "title": "Imports and paths"
   },
   "outputs": [],
   "source": [
    "%reload_ext tensorboard\n",
    "%tensorboard --logdir {log_dir} --host ec2-18-188-180-213.us-east-2.compute.amazonaws.com"
   ]
  },
  {
   "cell_type": "markdown",
   "id": "7c28a4cd",
   "metadata": {
    "cell_marker": "\"\"\""
   },
   "source": [
    "## Load Dataset.\n",
    "\n",
    "There should be 301 FOVs in the dataset (12 GB compressed).\n",
    "\n",
    "Each FOV consists of 3 channels of 2048x2048 images,\n",
    "saved in the <a href=\"https://ngff.openmicroscopy.org/latest/#hcs-layout\">\n",
    "High-Content Screening (HCS) layout</a>\n",
    "specified by the Open Microscopy Environment Next Generation File Format\n",
    "(OME-NGFF).\n",
    "\n",
    "The layout on the disk is: row/col/field/pyramid_level/timepoint/channel/z/y/x.\n",
    "Notice that labelling of nuclei channel is not complete - some cells are not expressing the fluorescent protein."
   ]
  },
  {
   "cell_type": "code",
   "execution_count": null,
   "id": "746e379e",
   "metadata": {},
   "outputs": [],
   "source": [
    "dataset = open_ome_zarr(data_path)\n",
    "\n",
    "print(f\"Number of positions: {len(list(dataset.positions()))}\")\n",
    "\n",
    "# Use the field and pyramid_level below to visualize data.\n",
    "row = 0\n",
    "col = 0\n",
    "field = 23  # TODO: Change this to explore data.\n",
    "\n",
    "# This dataset contains images at 3 resolutions.\n",
    "# '0' is the highest resolution\n",
    "# '1' is down-scaled 2x2,\n",
    "# '2' is down-scaled 4x4.\n",
    "# Such datasets are called image pyramids.\n",
    "pyaramid_level = 0\n",
    "\n",
    "# `channel_names` is the metadata that is stored with data according to the OME-NGFF spec.\n",
    "n_channels = len(dataset.channel_names)\n",
    "\n",
    "image = dataset[f\"{row}/{col}/{field}/{pyaramid_level}\"].numpy()\n",
    "print(f\"data shape: {image.shape}, FOV: {field}, pyramid level: {pyaramid_level}\")\n",
    "\n",
    "figure, axes = plt.subplots(1, n_channels, figsize=(9, 3))\n",
    "\n",
    "for i in range(n_channels):\n",
    "    for i in range(n_channels):\n",
    "        channel_image = image[0, i, 0]\n",
    "        # Adjust contrast to 0.5th and 99.5th percentile of pixel values.\n",
    "        p_low, p_high = np.percentile(channel_image, (0.5, 99.5))\n",
    "        channel_image = np.clip(channel_image, p_low, p_high)\n",
    "        axes[i].imshow(channel_image, cmap=\"gray\")\n",
    "        axes[i].axis(\"off\")\n",
    "        axes[i].set_title(dataset.channel_names[i])\n",
    "plt.tight_layout()"
   ]
  },
  {
   "cell_type": "markdown",
   "id": "7eb03067",
   "metadata": {},
   "source": [
    "<div class=\"alert alert-info\">\n",
    "\n",
    "### Task 1.1\n",
    "    \n",
    "Look at a couple different fields of view by changing the value in the cell above. See if you notice any missing or inconsistent staining.\n",
    "</div>"
   ]
  },
  {
   "cell_type": "markdown",
   "id": "558bd771",
   "metadata": {
    "cell_marker": "\"\"\"",
    "lines_to_next_cell": 1
   },
   "source": [
    "## Explore the effects of augmentation on batch.\n",
    "\n",
    "VisCy builds on top of PyTorch Lightning. PyTorch Lightning is a thin wrapper around PyTorch that allows rapid experimentation. It provides a [DataModule](https://lightning.ai/docs/pytorch/stable/data/datamodule.html) to handle loading and processing of data during training. VisCy provides a child class, `HCSDataModule` to make it intuitve to access data stored in the HCS layout.\n",
    "  \n",
    "The dataloader in `HCSDataModule` returns a batch of samples. A `batch` is a list of dictionaries. The length of the list is equal to the batch size. Each dictionary consists of following key-value pairs.\n",
    "- `source`: the input image, a tensor of size 1*1*Y*X\n",
    "- `target`: the target image, a tensor of size 2*1*Y*X\n",
    "- `index` : the tuple of (location of field in HCS layout, time, and z-slice) of the sample."
   ]
  },
  {
   "cell_type": "markdown",
   "id": "2d8b751e",
   "metadata": {},
   "source": [
    "<div class=\"alert alert-info\">\n",
    "\n",
    "### Task 1.2\n",
    "\n",
    "Setup the data loader and log several batches to tensorboard.\n",
    "\n",
    "Based on the tensorboard images, what are the two channels in the target image?\n",
    "\n",
    "Note: If tensorboard is not showing images, try refreshing and using the \"Images\" tab.\n",
    "</div>"
   ]
  },
  {
   "cell_type": "code",
   "execution_count": null,
   "id": "34d67f4e",
   "metadata": {},
   "outputs": [],
   "source": [
    "# Define a function to write a batch to tensorboard log.\n",
    "\n",
    "def log_batch_tensorboard(batch, batchno, writer, card_name):\n",
    "    \"\"\"\n",
    "    Logs a batch of images to TensorBoard.\n",
    "\n",
    "    Args:\n",
    "        batch (dict): A dictionary containing the batch of images to be logged.\n",
    "        writer (SummaryWriter): A TensorBoard SummaryWriter object.\n",
    "        card_name (str): The name of the card to be displayed in TensorBoard.\n",
    "\n",
    "    Returns:\n",
    "        None\n",
    "    \"\"\"\n",
    "    batch_phase = batch[\"source\"][:, :, 0, :, :]  # batch_size x z_size x Y x X tensor.\n",
    "    batch_membrane = batch[\"target\"][:, 1, 0, :, :].unsqueeze(\n",
    "        1\n",
    "    )  # batch_size x 1 x Y x X tensor.\n",
    "    batch_nuclei = batch[\"target\"][:, 0, 0, :, :].unsqueeze(\n",
    "        1\n",
    "    )  # batch_size x 1 x Y x X tensor.\n",
    "\n",
    "    p1, p99 = np.percentile(batch_membrane, (0.1, 99.9))\n",
    "    batch_membrane = np.clip((batch_membrane - p1) / (p99 - p1), 0, 1)\n",
    "\n",
    "    p1, p99 = np.percentile(batch_nuclei, (0.1, 99.9))\n",
    "    batch_nuclei = np.clip((batch_nuclei - p1) / (p99 - p1), 0, 1)\n",
    "\n",
    "    p1, p99 = np.percentile(batch_phase, (0.1, 99.9))\n",
    "    batch_phase = np.clip((batch_phase - p1) / (p99 - p1), 0, 1)\n",
    "\n",
    "    [N, C, H, W] = batch_phase.shape\n",
    "    interleaved_images = torch.zeros((3 * N, C, H, W), dtype=batch_phase.dtype)\n",
    "    interleaved_images[0::3, :] = batch_phase\n",
    "    interleaved_images[1::3, :] = batch_nuclei\n",
    "    interleaved_images[2::3, :] = batch_membrane\n",
    "\n",
    "    grid = torchvision.utils.make_grid(interleaved_images, nrow=3)\n",
    "\n",
    "    # add the grid to tensorboard\n",
    "    writer.add_image(card_name, grid, batchno)"
   ]
  },
  {
   "cell_type": "code",
   "execution_count": null,
   "id": "6f809d1a",
   "metadata": {},
   "outputs": [],
   "source": [
    "# Define a function to visualize a batch on jupyter, in case tensorboard is finicky \n",
    "\n",
    "def log_batch_jupyter(batch):\n",
    "    \"\"\"\n",
    "    Logs a batch of images on jupyter using ipywidget.\n",
    "\n",
    "    Args:\n",
    "        batch (dict): A dictionary containing the batch of images to be logged.\n",
    "\n",
    "    Returns:\n",
    "        None\n",
    "    \"\"\"\n",
    "    batch_phase = batch[\"source\"][:, :, 0, :, :]  # batch_size x z_size x Y x X tensor.\n",
    "    batch_size = batch_phase.shape[0]\n",
    "    batch_membrane = batch[\"target\"][:, 1, 0, :, :].unsqueeze(\n",
    "        1\n",
    "    )  # batch_size x 1 x Y x X tensor.\n",
    "    batch_nuclei = batch[\"target\"][:, 0, 0, :, :].unsqueeze(\n",
    "        1\n",
    "    )  # batch_size x 1 x Y x X tensor.\n",
    "\n",
    "    p1, p99 = np.percentile(batch_membrane, (0.1, 99.9))\n",
    "    batch_membrane = np.clip((batch_membrane - p1) / (p99 - p1), 0, 1)\n",
    "\n",
    "    p1, p99 = np.percentile(batch_nuclei, (0.1, 99.9))\n",
    "    batch_nuclei = np.clip((batch_nuclei - p1) / (p99 - p1), 0, 1)\n",
    "\n",
    "    p1, p99 = np.percentile(batch_phase, (0.1, 99.9))\n",
    "    batch_phase = np.clip((batch_phase - p1) / (p99 - p1), 0, 1)\n",
    "\n",
    "    plt.figure()\n",
    "    fig, axes = plt.subplots(batch_size, n_channels, figsize=(10, 10))\n",
    "    [N, C, H, W] = batch_phase.shape\n",
    "    for sample_id in range(batch_size):\n",
    "        axes[sample_id, 0].imshow(batch_phase[sample_id,0])\n",
    "        axes[sample_id, 1].imshow(batch_nuclei[sample_id,0])\n",
    "        axes[sample_id, 2].imshow(batch_membrane[sample_id,0])\n",
    "\n",
    "        for i in range(n_channels):\n",
    "            axes[sample_id, i].axis(\"off\")\n",
    "            axes[sample_id, i].set_title(dataset.channel_names[i])\n",
    "    plt.tight_layout()\n",
    "    plt.show()"
   ]
  },
  {
   "cell_type": "code",
   "execution_count": null,
   "id": "4283c6ec",
   "metadata": {
    "lines_to_next_cell": 2
   },
   "outputs": [],
   "source": [
    "\n",
    "# Initialize the data module.\n",
    "\n",
    "BATCH_SIZE = 4\n",
    "# 42 is a perfectly reasonable batch size. After all, it is the answer to the ultimate question of life, the universe and everything.\n",
    "# More seriously, batch size does not have to be a power of 2.\n",
    "# See: https://sebastianraschka.com/blog/2022/batch-size-2.html\n",
    "\n",
    "data_module = HCSDataModule(\n",
    "    data_path,\n",
    "    source_channel=\"Phase\",\n",
    "    target_channel=[\"Nuclei\", \"Membrane\"],\n",
    "    z_window_size=1,\n",
    "    split_ratio=0.8,\n",
    "    batch_size=BATCH_SIZE,\n",
    "    num_workers=8,\n",
    "    architecture=\"2D\",\n",
    "    yx_patch_size=(512, 512),  # larger patch size makes it easy to see augmentations.\n",
    "    augment=False,  # Turn off augmentation for now.\n",
    ")\n",
    "data_module.setup(\"fit\")\n",
    "\n",
    "print(\n",
    "    f\"FOVs in training set: {len(data_module.train_dataset)}, FOVs in validation set:{len(data_module.val_dataset)}\"\n",
    ")\n",
    "train_dataloader = data_module.train_dataloader()\n",
    "\n",
    "# Instantiate the tensorboard SummaryWriter, logs the first batch and then iterates through all the batches and logs them to tensorboard.\n",
    "\n",
    "writer = SummaryWriter(log_dir=f\"{log_dir}/view_batch\")\n",
    "# Draw a batch and write to tensorboard.\n",
    "batch = next(iter(train_dataloader))\n",
    "log_batch_tensorboard(batch, 0, writer, \"augmentation/none\")\n",
    "writer.close()"
   ]
  },
  {
   "cell_type": "markdown",
   "id": "f68ca1a6",
   "metadata": {},
   "source": [
    "Visualize directly on Jupyter ☄️, if your tensorboard is causing issues."
   ]
  },
  {
   "cell_type": "code",
   "execution_count": null,
   "id": "ba75d0b7",
   "metadata": {},
   "outputs": [],
   "source": [
    "%matplotlib inline\n",
    "log_batch_jupyter(batch)"
   ]
  },
  {
   "cell_type": "markdown",
   "id": "84c76694",
   "metadata": {
    "cell_marker": "\"\"\"",
    "lines_to_next_cell": 0
   },
   "source": [
    "## View augmentations using tensorboard."
   ]
  },
  {
   "cell_type": "code",
   "execution_count": null,
   "id": "60a4c860",
   "metadata": {},
   "outputs": [],
   "source": [
    "# Here we turn on data augmentation and rerun setup\n",
    "data_module.augment = True\n",
    "data_module.setup(\"fit\")\n",
    "\n",
    "# get the new data loader with augmentation turned on\n",
    "augmented_train_dataloader = data_module.train_dataloader()\n",
    "\n",
    "# Draw batches and write to tensorboard\n",
    "writer = SummaryWriter(log_dir=f\"{log_dir}/view_batch\")\n",
    "augmented_batch = next(iter(augmented_train_dataloader))\n",
    "log_batch_tensorboard(augmented_batch, 0, writer, \"augmentation/some\")\n",
    "writer.close()"
   ]
  },
  {
   "cell_type": "markdown",
   "id": "300a22f8",
   "metadata": {},
   "source": [
    "Visualize directly on Jupyter ☄️"
   ]
  },
  {
   "cell_type": "code",
   "execution_count": null,
   "id": "32ee7023",
   "metadata": {},
   "outputs": [],
   "source": [
    "log_batch_jupyter(augmented_batch)"
   ]
  },
  {
   "cell_type": "markdown",
   "id": "d3db2389",
   "metadata": {},
   "source": [
    "<div class=\"alert alert-info\">\n",
    "\n",
    "### Task 1.3\n",
    "Can you tell what augmentation were applied from looking at the augmented images in Tensorboard?\n",
    "\n",
    "Check your answer using the source code [here](https://github.com/mehta-lab/VisCy/blob/b89f778b34735553cf155904eef134c756708ff2/viscy/light/data.py#L529).\n",
    "</div>"
   ]
  },
  {
   "cell_type": "markdown",
   "id": "56791ff0",
   "metadata": {
    "cell_marker": "\"\"\"",
    "lines_to_next_cell": 0
   },
   "source": [
    "## Train a 2D U-Net model to predict nuclei and membrane from phase.\n",
    "\n",
    "### Construct a 2D U-Net\n",
    "See ``viscy.unet.networks.Unet2D.Unet2d`` ([source code](https://github.com/mehta-lab/VisCy/blob/7c5e4c1d68e70163cf514d22c475da8ea7dc3a88/viscy/unet/networks/Unet2D.py#L7)) for configuration details."
   ]
  },
  {
   "cell_type": "code",
   "execution_count": null,
   "id": "d72b2a89",
   "metadata": {
    "lines_to_next_cell": 2
   },
   "outputs": [],
   "source": [
    "# Create a 2D UNet.\n",
    "GPU_ID = 0\n",
    "BATCH_SIZE = 10\n",
    "YX_PATCH_SIZE = (512, 512)\n",
    "\n",
    "\n",
    "# Dictionary that specifies key parameters of the model.\n",
    "phase2fluor_config = {\n",
    "    \"architecture\": \"2D\",\n",
    "    \"num_filters\": [24, 48, 96, 192, 384],\n",
    "    \"in_channels\": 1,\n",
    "    \"out_channels\": 2,\n",
    "    \"residual\": True,\n",
    "    \"dropout\": 0.1,  # dropout randomly turns off weights to avoid overfitting of the model to data.\n",
    "    \"task\": \"reg\",  # reg = regression task.\n",
    "}\n",
    "\n",
    "phase2fluor_model = VSUNet(\n",
    "    model_config=phase2fluor_config.copy(),\n",
    "    batch_size=BATCH_SIZE,\n",
    "    loss_function=torch.nn.functional.l1_loss,\n",
    "    schedule=\"WarmupCosine\",\n",
    "    log_num_samples=5,  # Number of samples from each batch to log to tensorboard.\n",
    "    example_input_yx_shape=YX_PATCH_SIZE,\n",
    ")"
   ]
  },
  {
   "cell_type": "markdown",
   "id": "f0428ccf",
   "metadata": {
    "cell_marker": "\"\"\"",
    "lines_to_next_cell": 0
   },
   "source": [
    "### Instantiate data module and trainer, test that we are setup to launch training."
   ]
  },
  {
   "cell_type": "code",
   "execution_count": null,
   "id": "937bf8bc",
   "metadata": {
    "lines_to_next_cell": 2
   },
   "outputs": [],
   "source": [
    "# Setup the data module.\n",
    "phase2fluor_data = HCSDataModule(\n",
    "    data_path,\n",
    "    source_channel=\"Phase\",\n",
    "    target_channel=[\"Nuclei\", \"Membrane\"],\n",
    "    z_window_size=1,\n",
    "    split_ratio=0.8,\n",
    "    batch_size=BATCH_SIZE,\n",
    "    num_workers=8,\n",
    "    architecture=\"2D\",\n",
    "    yx_patch_size=YX_PATCH_SIZE,\n",
    "    augment=True,\n",
    ")\n",
    "phase2fluor_data.setup(\"fit\")\n",
    "# fast_dev_run runs a single batch of data through the model to check for errors.\n",
    "trainer = VSTrainer(accelerator=\"gpu\", devices=[GPU_ID], fast_dev_run=True)\n",
    "\n",
    "# trainer class takes the model and the data module as inputs.\n",
    "trainer.fit(phase2fluor_model, datamodule=phase2fluor_data)"
   ]
  },
  {
   "cell_type": "markdown",
   "id": "d02770f1",
   "metadata": {},
   "source": [
    "## View model graph.\n",
    "\n",
    "PyTorch uses dynamic graphs under the hood. The graphs are constructed on the fly. This is in contrast to TensorFlow, where the graph is constructed before the training loop and remains static. In other words, the graph of the network can change with every forward pass. Therefore, we need to supply an input tensor to construct the graph. The input tensor can be a random tensor of the correct shape and type. We can also supply a real image from the dataset. The latter is more useful for debugging."
   ]
  },
  {
   "cell_type": "markdown",
   "id": "156b957b",
   "metadata": {},
   "source": [
    "<div class=\"alert alert-info\">\n",
    "\n",
    "### Task 1.4\n",
    "Run the next cell to generate a graph representation of the model architecture. Can you recognize the UNet structure and skip connections in this graph visualization?\n",
    "</div>"
   ]
  },
  {
   "cell_type": "code",
   "execution_count": null,
   "id": "bbc79af4",
   "metadata": {},
   "outputs": [],
   "source": [
    "# visualize graph of phase2fluor model as image.\n",
    "model_graph_phase2fluor = torchview.draw_graph(\n",
    "    phase2fluor_model,\n",
    "    phase2fluor_data.train_dataset[0][\"source\"],\n",
    "    depth=2,  # adjust depth to zoom in.\n",
    "    device=\"cpu\",\n",
    ")\n",
    "# Print the image of the model.\n",
    "model_graph_phase2fluor.visual_graph"
   ]
  },
  {
   "cell_type": "markdown",
   "id": "9a646e38",
   "metadata": {
    "cell_marker": "\"\"\"",
    "lines_to_next_cell": 2
   },
   "source": [
    "<div class=\"alert alert-info\">\n",
    "\n",
    "### Task 1.5\n",
    "Start training by running the following cell. Check the new logs on the tensorboard.\n",
    "</div>"
   ]
  },
  {
   "cell_type": "code",
   "execution_count": null,
   "id": "335a40d4",
   "metadata": {},
   "outputs": [],
   "source": [
    "\n",
    "GPU_ID = 0\n",
    "n_samples = len(phase2fluor_data.train_dataset)\n",
    "steps_per_epoch = n_samples // BATCH_SIZE  # steps per epoch.\n",
    "n_epochs = 5 # Set this to 50 or the number of epochs you want to train for.\n",
    "\n",
    "trainer = VSTrainer(\n",
    "    accelerator=\"gpu\",\n",
    "    devices=[GPU_ID],\n",
    "    max_epochs=n_epochs,\n",
    "    log_every_n_steps=steps_per_epoch // 2,\n",
    "    # log losses and image samples 2 times per epoch.\n",
    "    logger=TensorBoardLogger(\n",
    "        save_dir=log_dir,\n",
    "        # lightning trainer transparently saves logs and model checkpoints in this directory.\n",
    "        name=\"phase2fluor\",\n",
    "        log_graph=True,\n",
    "        ),\n",
    "    )  \n",
    "# Launch training and check that loss and images are being logged on tensorboard.\n",
    "trainer.fit(phase2fluor_model, datamodule=phase2fluor_data)"
   ]
  },
  {
   "cell_type": "markdown",
   "id": "983ee027",
   "metadata": {
    "cell_marker": "\"\"\""
   },
   "source": [
    "<div class=\"alert alert-success\">\n",
    "\n",
    "## Checkpoint 1\n",
    "\n",
    "Now the training has started,\n",
    "we can come back after a while and evaluate the performance!\n",
    "</div>"
   ]
  },
  {
   "cell_type": "markdown",
   "id": "f5d37230",
   "metadata": {
    "cell_marker": "\"\"\"",
    "incorrectly_encoded_metadata": "id='1_fluor2phase'></a>",
    "title": "<a"
   },
   "source": [
    "# Part 2: Assess previous model, train fluorescence to phase contrast translation model.\n",
    "--------------------------------------------------"
   ]
  },
  {
   "cell_type": "markdown",
   "id": "a7ed1727",
   "metadata": {
    "cell_marker": "\"\"\""
   },
   "source": [
    "We now look at some metrics of performance of previous model. We typically evaluate the model performance on a held out test data. We will use the following metrics to evaluate the accuracy of regression of the model:\n",
    "- [Person Correlation](https://en.wikipedia.org/wiki/Pearson_correlation_coefficient).\n",
    "- [Structural similarity](https://en.wikipedia.org/wiki/Structural_similarity) (SSIM).\n",
    "\n",
    "You should also look at the validation samples on tensorboard (hint: the experimental data in nuclei channel is imperfect.)"
   ]
  },
  {
   "cell_type": "markdown",
   "id": "a29c3102",
   "metadata": {
    "cell_marker": "\"\"\""
   },
   "source": [
    "<div class=\"alert alert-info\">\n",
    "\n",
    "### Task 2.1 Define metrics\n",
    "\n",
    "For each of the above metrics, write a brief definition of what they are and what they mean for this image translation task.\n",
    "\n",
    "</div>"
   ]
  },
  {
   "cell_type": "markdown",
   "id": "8a11a95d",
   "metadata": {},
   "source": [
    "```\n",
    "#######################\n",
    "##### Todo ############\n",
    "#######################\n",
    "```\n",
    "\n",
    "- Pearson Correlation:\n",
    "\n",
    "- Structural similarity: "
   ]
  },
  {
   "cell_type": "code",
   "execution_count": null,
   "id": "4178543d",
   "metadata": {
    "title": "Compute metrics directly and plot here."
   },
   "outputs": [],
   "source": [
    "test_data_path = Path(\n",
    "    \"~/data/04_image_translation/HEK_nuclei_membrane_test.zarr\"\n",
    ").expanduser()\n",
    "\n",
    "test_data = HCSDataModule(\n",
    "    test_data_path,\n",
    "    source_channel=\"Phase\",\n",
    "    target_channel=[\"Nuclei\", \"Membrane\"],\n",
    "    z_window_size=1,\n",
    "    batch_size=1,\n",
    "    num_workers=8,\n",
    "    architecture=\"2D\",\n",
    ")\n",
    "test_data.setup(\"test\")\n",
    "\n",
    "test_metrics = pd.DataFrame(\n",
    "    columns=[\"pearson_nuc\", \"SSIM_nuc\", \"pearson_mem\", \"SSIM_mem\"]\n",
    ")\n",
    "\n",
    "\n",
    "def min_max_scale(input):\n",
    "    return (input - np.min(input)) / (np.max(input) - np.min(input))"
   ]
  },
  {
   "cell_type": "code",
   "execution_count": null,
   "id": "7b148447",
   "metadata": {
    "lines_to_next_cell": 2,
    "title": "Compute metrics directly and plot here."
   },
   "outputs": [],
   "source": [
    "for i, sample in enumerate(test_data.test_dataloader()):\n",
    "    phase_image = sample[\"source\"]\n",
    "    with torch.inference_mode():  # turn off gradient computation.\n",
    "        predicted_image = phase2fluor_model(phase_image)\n",
    "\n",
    "    target_image = (\n",
    "        sample[\"target\"].cpu().numpy().squeeze(0)\n",
    "    )  # Squeezing batch dimension.\n",
    "    predicted_image = predicted_image.cpu().numpy().squeeze(0)\n",
    "    phase_image = phase_image.cpu().numpy().squeeze(0)\n",
    "    target_mem = min_max_scale(target_image[1, 0, :, :])\n",
    "    target_nuc = min_max_scale(target_image[0, 0, :, :])\n",
    "    # slicing channel dimension, squeezing z-dimension.\n",
    "    predicted_mem = min_max_scale(predicted_image[1, :, :, :].squeeze(0))\n",
    "    predicted_nuc = min_max_scale(predicted_image[0, :, :, :].squeeze(0))\n",
    "\n",
    "    # Compute SSIM and pearson correlation.\n",
    "    ssim_nuc = metrics.structural_similarity(target_nuc, predicted_nuc, data_range=1)\n",
    "    ssim_mem = metrics.structural_similarity(target_mem, predicted_mem, data_range=1)\n",
    "    pearson_nuc = np.corrcoef(target_nuc.flatten(), predicted_nuc.flatten())[0, 1]\n",
    "    pearson_mem = np.corrcoef(target_mem.flatten(), predicted_mem.flatten())[0, 1]\n",
    "\n",
    "    test_metrics.loc[i] = {\n",
    "        \"pearson_nuc\": pearson_nuc,\n",
    "        \"SSIM_nuc\": ssim_nuc,\n",
    "        \"pearson_mem\": pearson_mem,\n",
    "        \"SSIM_mem\": ssim_mem,\n",
    "    }\n",
    "\n",
    "test_metrics.boxplot(\n",
    "    column=[\"pearson_nuc\", \"SSIM_nuc\", \"pearson_mem\", \"SSIM_mem\"],\n",
    "    rot=30,\n",
    ")"
   ]
  },
  {
   "cell_type": "markdown",
   "id": "2200a947",
   "metadata": {
    "cell_marker": "\"\"\"",
    "lines_to_next_cell": 0,
    "tags": []
   },
   "source": [
    "<div class=\"alert alert-info\">\n",
    "\n",
    "### Task 2.2 Train fluorescence to phase contrast translation model\n",
    "\n",
    "Instantiate a data module, model, and trainer for fluorescence to phase contrast translation. Copy over the code from previous cells and update the parameters. Give the variables and paths a different name/suffix (fluor2phase) to avoid overwriting objects used to train phase2fluor models.\n",
    "</div>"
   ]
  },
  {
   "cell_type": "code",
   "execution_count": null,
   "id": "ff501617",
   "metadata": {
    "tags": []
   },
   "outputs": [],
   "source": [
    "##########################\n",
    "######## TODO ########\n",
    "##########################\n",
    "\n",
    "fluor2phase_data = HCSDataModule(\n",
    "    # Your code here (copy from above and modify as needed)\n",
    ")\n",
    "fluor2phase_data.setup(\"fit\")\n",
    "\n",
    "# Dictionary that specifies key parameters of the model.\n",
    "fluor2phase_config = {\n",
    "    # Your config here\n",
    "}\n",
    "\n",
    "fluor2phase_model = VSUNet(\n",
    "    # Your code here (copy from above and modify as needed)\n",
    ")\n",
    "\n",
    "trainer = VSTrainer(\n",
    "    # Your code here (copy from above and modify as needed)\n",
    ")\n",
    "trainer.fit(fluor2phase_model, datamodule=fluor2phase_data)\n",
    "\n",
    "\n",
    "# Visualize the graph of fluor2phase model as image.\n",
    "model_graph_fluor2phase = torchview.draw_graph(\n",
    "    fluor2phase_model,\n",
    "    fluor2phase_data.train_dataset[0][\"source\"],\n",
    "    depth=2,  # adjust depth to zoom in.\n",
    "    device=\"cpu\",\n",
    ")\n",
    "model_graph_fluor2phase.visual_graph"
   ]
  },
  {
   "cell_type": "code",
   "execution_count": null,
   "id": "14fc93be",
   "metadata": {
    "tags": [
     "solution"
    ]
   },
   "outputs": [],
   "source": [
    "\n",
    "##########################\n",
    "######## Solution ########\n",
    "##########################\n",
    "\n",
    "# The entire training loop is contained in this cell.\n",
    "\n",
    "fluor2phase_data = HCSDataModule(\n",
    "    data_path,\n",
    "    source_channel=\"Membrane\",\n",
    "    target_channel=\"Phase\",\n",
    "    z_window_size=1,\n",
    "    split_ratio=0.8,\n",
    "    batch_size=BATCH_SIZE,\n",
    "    num_workers=8,\n",
    "    architecture=\"2D\",\n",
    "    yx_patch_size=YX_PATCH_SIZE,\n",
    "    augment=True,\n",
    ")\n",
    "fluor2phase_data.setup(\"fit\")\n",
    "\n",
    "# Dictionary that specifies key parameters of the model.\n",
    "fluor2phase_config = {\n",
    "    \"architecture\": \"2D\",\n",
    "    \"in_channels\": 1,\n",
    "    \"out_channels\": 1,\n",
    "    \"residual\": True,\n",
    "    \"dropout\": 0.1,  # dropout randomly turns off weights to avoid overfitting of the model to data.\n",
    "    \"task\": \"reg\",  # reg = regression task.\n",
    "    \"num_filters\": [24, 48, 96, 192, 384],\n",
    "}\n",
    "\n",
    "fluor2phase_model = VSUNet(\n",
    "    model_config=fluor2phase_config.copy(),\n",
    "    batch_size=BATCH_SIZE,\n",
    "    loss_function=torch.nn.functional.mse_loss,\n",
    "    schedule=\"WarmupCosine\",\n",
    "    log_num_samples=5,\n",
    "    example_input_yx_shape=YX_PATCH_SIZE,\n",
    ")\n",
    "\n",
    "\n",
    "trainer = VSTrainer(\n",
    "    accelerator=\"gpu\",\n",
    "    devices=[GPU_ID],\n",
    "    max_epochs=n_epochs,\n",
    "    log_every_n_steps=steps_per_epoch // 2,\n",
    "    logger=TensorBoardLogger(\n",
    "        save_dir=log_dir,\n",
    "        # lightning trainer transparently saves logs and model checkpoints in this directory.\n",
    "        name=\"fluor2phase\",\n",
    "        log_graph=True,\n",
    "    ),\n",
    ")\n",
    "trainer.fit(fluor2phase_model, datamodule=fluor2phase_data)\n",
    "\n",
    "\n",
    "# Visualize the graph of fluor2phase model as image.\n",
    "model_graph_fluor2phase = torchview.draw_graph(\n",
    "    fluor2phase_model,\n",
    "    fluor2phase_data.train_dataset[0][\"source\"],\n",
    "    depth=2,  # adjust depth to zoom in.\n",
    "    device=\"cpu\",\n",
    ")\n",
    "model_graph_fluor2phase.visual_graph"
   ]
  },
  {
   "cell_type": "markdown",
   "id": "1541122e",
   "metadata": {
    "cell_marker": "\"\"\"",
    "lines_to_next_cell": 0,
    "tags": []
   },
   "source": [
    "<div class=\"alert alert-info\">\n",
    "\n",
    "### Task 2.3\n",
    "\n",
    "While your model is training, let's think about the following questions:\n",
    "- What is the information content of each channel in the dataset?\n",
    "- How would you use image translation models?\n",
    "- What can you try to improve the performance of each model?\n",
    "</div>"
   ]
  },
  {
   "cell_type": "code",
   "execution_count": null,
   "id": "9fcc750c",
   "metadata": {},
   "outputs": [],
   "source": [
    "test_data_path = Path(\n",
    "    \"~/data/04_image_translation/HEK_nuclei_membrane_test.zarr\"\n",
    ").expanduser()\n",
    "\n",
    "test_data = HCSDataModule(\n",
    "    test_data_path,\n",
    "    source_channel=\"Nuclei\", # or Membrane, depending on your choice of source\n",
    "    target_channel=\"Phase\",\n",
    "    z_window_size=1,\n",
    "    batch_size=1,\n",
    "    num_workers=8,\n",
    "    architecture=\"2D\",\n",
    ")\n",
    "test_data.setup(\"test\")\n",
    "\n",
    "test_metrics = pd.DataFrame(\n",
    "    columns=[\"pearson_nuc\", \"SSIM_nuc\", \"pearson_mem\", \"SSIM_mem\"]\n",
    ")\n",
    "\n",
    "\n",
    "def min_max_scale(input):\n",
    "    return (input - np.min(input)) / (np.max(input) - np.min(input))"
   ]
  },
  {
   "cell_type": "code",
   "execution_count": null,
   "id": "470eff68",
   "metadata": {},
   "outputs": [],
   "source": [
    "for i, sample in enumerate(test_data.test_dataloader()):\n",
    "    source_image = sample[\"source\"]\n",
    "    with torch.inference_mode():  # turn off gradient computation.\n",
    "        predicted_image = fluor2phase_model(source_image)\n",
    "\n",
    "    target_image = (\n",
    "        sample[\"target\"].cpu().numpy().squeeze(0)\n",
    "    )  # Squeezing batch dimension.\n",
    "    predicted_image = predicted_image.cpu().numpy().squeeze(0)\n",
    "    source_image = source_image.cpu().numpy().squeeze(0)\n",
    "    target_phase = min_max_scale(target_image[0, 0, :, :])\n",
    "    # slicing channel dimension, squeezing z-dimension.\n",
    "    predicted_phase = min_max_scale(predicted_image[0, :, :, :].squeeze(0))\n",
    "\n",
    "    # Compute SSIM and pearson correlation.\n",
    "    ssim_phase = metrics.structural_similarity(target_phase, predicted_phase, data_range=1)\n",
    "    pearson_phase = np.corrcoef(target_phase.flatten(), predicted_phase.flatten())[0, 1]\n",
    "\n",
    "    test_metrics.loc[i] = {\n",
    "        \"pearson_phase\": pearson_phase,\n",
    "        \"SSIM_phase\": ssim_phase,\n",
    "    }\n",
    "\n",
    "test_metrics.boxplot(\n",
    "    column=[\"pearson_phase\", \"SSIM_phase\"],\n",
    "    rot=30,\n",
    ")"
   ]
  },
  {
   "cell_type": "markdown",
   "id": "9676df7a",
   "metadata": {
    "cell_marker": "\"\"\"",
    "tags": []
   },
   "source": [
    "<div class=\"alert alert-success\">\n",
    "\n",
    "## Checkpoint 2\n",
    "When your model finishes training, please summarize hyperparameters and performance of your models in the [this google doc](https://docs.google.com/document/d/1hZWSVRvt9KJEdYu7ib-vFBqAVQRYL8cWaP_vFznu7D8/edit#heading=h.n5u485pmzv2z)\n",
    "\n",
    "</div>"
   ]
  },
  {
   "cell_type": "markdown",
   "id": "482bacf9",
   "metadata": {
    "cell_marker": "\"\"\"",
    "incorrectly_encoded_metadata": "id='3_tuning'></a>",
    "lines_to_next_cell": 2,
    "tags": [],
    "title": "<a"
   },
   "source": [
    "# Part 3: Tune the models.\n",
    "--------------------------------------------------\n",
    "\n",
    "Learning goals: Understand how data, model capacity, and training parameters control the performance of the model. Your goal is to try to underfit or overfit the model."
   ]
  },
  {
   "cell_type": "markdown",
   "id": "200149d7",
   "metadata": {
    "cell_marker": "\"\"\"",
    "lines_to_next_cell": 0,
    "tags": []
   },
   "source": [
    "<div class=\"alert alert-info\">\n",
    "\n",
    "### Task 3.1\n",
    "\n",
    "- Choose a model you want to train (phase2fluor or fluor2phase).\n",
    "- Set up a configuration that you think will improve the performance of the model\n",
    "- Consider modifying the learning rate and see how it changes performance\n",
    "- Use training loop illustrated in previous cells to train phase2fluor and fluor2phase models to prototype your own training loop.\n",
    "- Add code to evaluate the model using Pearson Correlation and SSIM\n",
    "\n",
    "As your model is training, please document hyperparameters, snapshots of predictions on validation set, and loss curves for your models in [this google doc](https://docs.google.com/document/d/1hZWSVRvt9KJEdYu7ib-vFBqAVQRYL8cWaP_vFznu7D8/edit#heading=h.n5u485pmzv2z)\n",
    "\n",
    "</div>"
   ]
  },
  {
   "cell_type": "code",
   "execution_count": null,
   "id": "96600050",
   "metadata": {
    "lines_to_next_cell": 2,
    "tags": []
   },
   "outputs": [],
   "source": [
    "##########################\n",
    "######## TODO ########\n",
    "##########################\n",
    "\n",
    "tune_data = HCSDataModule(\n",
    "    # Your code here (copy from above and modify as needed)\n",
    ")\n",
    "tune_data.setup(\"fit\")\n",
    "\n",
    "# Dictionary that specifies key parameters of the model.\n",
    "tune_config = {\n",
    "    # Your config here\n",
    "}\n",
    "\n",
    "tune_model = VSUNet(\n",
    "    # Your code here (copy from above and modify as needed)\n",
    ")\n",
    "\n",
    "trainer = VSTrainer(\n",
    "    # Your code here (copy from above and modify as needed)\n",
    ")\n",
    "trainer.fit(tune_model, datamodule=tune_data)\n",
    "\n",
    "\n",
    "# Visualize the graph of fluor2phase model as image.\n",
    "model_graph_tune = torchview.draw_graph(\n",
    "    tune_model,\n",
    "    tune_data.train_dataset[0][\"source\"],\n",
    "    depth=2,  # adjust depth to zoom in.\n",
    "    device=\"cpu\",\n",
    ")\n",
    "model_graph_tune.visual_graph"
   ]
  },
  {
   "cell_type": "code",
   "execution_count": null,
   "id": "d8094145",
   "metadata": {
    "tags": [
     "solution"
    ]
   },
   "outputs": [],
   "source": [
    "\n",
    "##########################\n",
    "######## Solution ########\n",
    "##########################\n",
    "\n",
    "phase2fluor_wider_config = {\n",
    "    \"architecture\": \"2D\",\n",
    "    # double the number of filters at each stage\n",
    "    \"num_filters\": [48, 96, 192, 384, 768],\n",
    "    \"in_channels\": 1,\n",
    "    \"out_channels\": 2,\n",
    "    \"residual\": True,\n",
    "    \"dropout\": 0.1,\n",
    "    \"task\": \"reg\",\n",
    "}\n",
    "\n",
    "phase2fluor_wider_model = VSUNet(\n",
    "    model_config=phase2fluor_wider_config.copy(),\n",
    "    batch_size=BATCH_SIZE,\n",
    "    loss_function=torch.nn.functional.l1_loss,\n",
    "    schedule=\"WarmupCosine\",\n",
    "    log_num_samples=5,\n",
    "    example_input_yx_shape=YX_PATCH_SIZE,\n",
    ")\n",
    "\n",
    "\n",
    "trainer = VSTrainer(\n",
    "    accelerator=\"gpu\",\n",
    "    devices=[GPU_ID],\n",
    "    max_epochs=n_epochs,\n",
    "    log_every_n_steps=steps_per_epoch,\n",
    "    logger=TensorBoardLogger(\n",
    "        save_dir=log_dir,\n",
    "        name=\"phase2fluor\",\n",
    "        version=\"wider\",\n",
    "        log_graph=True,\n",
    "    ),\n",
    "    fast_dev_run=True,\n",
    ")  # Set fast_dev_run to False to train the model.\n",
    "trainer.fit(phase2fluor_wider_model, datamodule=phase2fluor_data)"
   ]
  },
  {
   "cell_type": "code",
   "execution_count": null,
   "id": "9ba27a30",
   "metadata": {
    "lines_to_next_cell": 2,
    "tags": [
     "solution"
    ]
   },
   "outputs": [],
   "source": [
    "\n",
    "##########################\n",
    "######## Solution ########\n",
    "##########################\n",
    "\n",
    "phase2fluor_slow_model = VSUNet(\n",
    "    model_config=phase2fluor_config.copy(),\n",
    "    batch_size=BATCH_SIZE,\n",
    "    loss_function=torch.nn.functional.l1_loss,\n",
    "    # lower learning rate by 5 times\n",
    "    lr=2e-4,\n",
    "    schedule=\"WarmupCosine\",\n",
    "    log_num_samples=5,\n",
    "    example_input_yx_shape=YX_PATCH_SIZE,\n",
    ")\n",
    "\n",
    "trainer = VSTrainer(\n",
    "    accelerator=\"gpu\",\n",
    "    devices=[GPU_ID],\n",
    "    max_epochs=n_epochs,\n",
    "    log_every_n_steps=steps_per_epoch,\n",
    "    logger=TensorBoardLogger(\n",
    "        save_dir=log_dir,\n",
    "        name=\"phase2fluor\",\n",
    "        version=\"low_lr\",\n",
    "        log_graph=True,\n",
    "    ),\n",
    "    fast_dev_run=True,\n",
    ")\n",
    "trainer.fit(phase2fluor_slow_model, datamodule=phase2fluor_data)"
   ]
  },
  {
   "cell_type": "markdown",
   "id": "0d14582c",
   "metadata": {
    "cell_marker": "\"\"\"",
    "tags": []
   },
   "source": [
    "<div class=\"alert alert-success\">\n",
    "    \n",
    "## Checkpoint 3\n",
    "\n",
    "Congratulations! You have trained several image translation models now!\n",
    "Please document hyperparameters, snapshots of predictions on validation set, and loss curves for your models and add the final perforance in [this google doc](https://docs.google.com/document/d/1hZWSVRvt9KJEdYu7ib-vFBqAVQRYL8cWaP_vFznu7D8/edit#heading=h.n5u485pmzv2z). We'll discuss our combined results as a group.\n",
    "</div>"
   ]
  },
  {
   "cell_type": "code",
   "execution_count": null,
   "id": "6526a60b",
   "metadata": {
    "tags": []
   },
   "outputs": [],
   "source": []
  },
  {
   "cell_type": "code",
   "execution_count": null,
   "id": "98a8f81a",
   "metadata": {},
   "outputs": [],
   "source": []
  },
  {
   "cell_type": "code",
   "execution_count": null,
   "id": "7f469f13",
   "metadata": {},
   "outputs": [],
   "source": []
  },
  {
   "cell_type": "code",
   "execution_count": null,
   "id": "ab757eda",
   "metadata": {},
   "outputs": [],
   "source": []
  }
 ],
 "metadata": {
  "jupytext": {
   "cell_metadata_filter": "all",
   "main_language": "python"
  }
 },
 "nbformat": 4,
 "nbformat_minor": 5
}
